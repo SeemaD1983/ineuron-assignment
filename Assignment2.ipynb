{
  "nbformat": 4,
  "nbformat_minor": 0,
  "metadata": {
    "colab": {
      "name": "Assignment2.ipynb",
      "provenance": []
    },
    "kernelspec": {
      "name": "python3",
      "display_name": "Python 3"
    },
    "language_info": {
      "name": "python"
    }
  },
  "cells": [
    {
      "cell_type": "code",
      "metadata": {
        "id": "7Gfy3PxyMsKI"
      },
      "source": [
        "1. Create the below pattern using nested for loop in Python. \n",
        "* \n",
        "* * \n",
        "* * * \n",
        "* * * * \n",
        "* * * * * \n",
        "* * * * \n",
        "* * * \n",
        "* * \n",
        "* \n"
      ],
      "execution_count": null,
      "outputs": []
    },
    {
      "cell_type": "code",
      "metadata": {
        "colab": {
          "base_uri": "https://localhost:8080/"
        },
        "id": "bhJ2Kt8NOaTa",
        "outputId": "19eb0f60-1d3f-44dd-d577-801608bcb461"
      },
      "source": [
        "j = 1\n",
        "for i in range(5):\n",
        "  print(j*' *', end=\" \")\n",
        "  j+=1\n",
        "  print()\n",
        "j=4\n",
        "for i in range(4,0,-1):\n",
        "  print(j*' *', end=\" \")\n",
        "  j-=1\n",
        "  print()\t "
      ],
      "execution_count": 1,
      "outputs": [
        {
          "output_type": "stream",
          "text": [
            " * \n",
            " * * \n",
            " * * * \n",
            " * * * * \n",
            " * * * * * \n",
            " * * * * \n",
            " * * * \n",
            " * * \n",
            " * \n"
          ],
          "name": "stdout"
        }
      ]
    },
    {
      "cell_type": "markdown",
      "metadata": {
        "id": "V13G7NJROcC_"
      },
      "source": [
        "2. Write a Python program to reverse a word after accepting the input from the user. Sample Output: \n",
        "Input word: ineuron \n"
      ]
    },
    {
      "cell_type": "code",
      "metadata": {
        "colab": {
          "base_uri": "https://localhost:8080/"
        },
        "id": "0fMhYfvWOgv3",
        "outputId": "d6a93236-0eb2-46a2-8b7a-0dde69c65ba1"
      },
      "source": [
        "word=input(\"Enter the word\")\n",
        "word=word[::-1]\n",
        "print(word)"
      ],
      "execution_count": 2,
      "outputs": [
        {
          "output_type": "stream",
          "text": [
            "Enter the wordineuron\n",
            "norueni\n"
          ],
          "name": "stdout"
        }
      ]
    }
  ]
}