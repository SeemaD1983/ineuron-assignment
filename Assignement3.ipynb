{
  "nbformat": 4,
  "nbformat_minor": 0,
  "metadata": {
    "colab": {
      "name": "Assignement3.ipynb",
      "provenance": []
    },
    "kernelspec": {
      "name": "python3",
      "display_name": "Python 3"
    },
    "language_info": {
      "name": "python"
    }
  },
  "cells": [
    {
      "cell_type": "markdown",
      "metadata": {
        "id": "FYWpmBapPmTT"
      },
      "source": [
        "1.1 Write a Python Program to implement your own myreduce() function which works exactly  like Python's built-in function reduce() \n"
      ]
    },
    {
      "cell_type": "code",
      "metadata": {
        "colab": {
          "base_uri": "https://localhost:8080/"
        },
        "id": "J4rC6x0ZPoog",
        "outputId": "8af426ab-af59-4533-e8d4-2bbbed38a0c5"
      },
      "source": [
        "def add(a,b):\n",
        "  return a+b\n",
        "\n",
        "def myreduce(add, list1):\n",
        "\n",
        " # assign first element as sum\n",
        "  sum = list1[0]\n",
        " # apply add fun by iterating over rest of elements of sequence\n",
        "  for item in list1[1:]:\n",
        "   sum = add(sum, item)\n",
        "\n",
        "  return sum\n",
        "\n",
        "\n",
        "print(\"Result of myreduce function for addition is:\",myreduce(add,[1,2,3,4,5]))"
      ],
      "execution_count": 1,
      "outputs": [
        {
          "output_type": "stream",
          "text": [
            "Result of myreduce function for addition is: 15\n"
          ],
          "name": "stdout"
        }
      ]
    },
    {
      "cell_type": "markdown",
      "metadata": {
        "id": "JTw7Z1VVRoBV"
      },
      "source": [
        "1.2 Write a Python program to implement your own myfilter() function which works exactly  like Python's built-in function filter() "
      ]
    },
    {
      "cell_type": "code",
      "metadata": {
        "colab": {
          "base_uri": "https://localhost:8080/"
        },
        "id": "rQf7pXCcTX5K",
        "outputId": "33ce9831-a4a4-411c-926f-7ebbd848136d"
      },
      "source": [
        "def iseven(n):\n",
        "  if n%2==0:\n",
        "    return True\n",
        "  else:\n",
        "    return False \n",
        "\n",
        "\n",
        "def myfilter(iseven, list1):\n",
        " list2=[]\n",
        " # apply add fun by iterating over rest of elements of sequence\n",
        " for item in list1:\n",
        "    if iseven(item) == True:\n",
        "      list2.append(item)\n",
        " return list2\n",
        "\n",
        "\n",
        "print(\"Result of myreduce function for addition is:\",myfilter(iseven,[1,2,3,4,5]))"
      ],
      "execution_count": 2,
      "outputs": [
        {
          "output_type": "stream",
          "text": [
            "Result of myreduce function for addition is: [2, 4]\n"
          ],
          "name": "stdout"
        }
      ]
    },
    {
      "cell_type": "markdown",
      "metadata": {
        "id": "HpX9rqJtT0Wg"
      },
      "source": [
        "2. Implement List comprehensions to produce the following lists.  \n",
        "Write List comprehensions to produce the following Lists \n",
        "['A', 'C', 'A', 'D', 'G', 'I', ’L’, ‘ D’] \n",
        "['x', 'xx', 'xxx', 'xxxx', 'y', 'yy', 'yyy', 'yyyy', 'z', 'zz', 'zzz', 'zzzz']  \n",
        "['x', 'y', 'z', 'xx', 'yy', 'zz', 'xxx', 'yyy', 'zzz', 'xxxx', 'yyyy', 'zzzz']  \n",
        "[[2], [3], [4], [3], [4], [5], [4], [5], [6]] [[2, 3, 4, 5], [3, 4, 5, 6],  \n",
        "[4, 5, 6, 7], [5, 6, 7, 8]] \n",
        "[(1, 1), (2, 1), (3, 1), (1, 2), (2, 2), (3, 2), (1, 3), (2, 3), (3, 3)]\n"
      ]
    },
    {
      "cell_type": "code",
      "metadata": {
        "colab": {
          "base_uri": "https://localhost:8080/"
        },
        "id": "sgdLNULXT8U6",
        "outputId": "4d09e9aa-00b7-422c-93fe-16b59f93323f"
      },
      "source": [
        "#1.\n",
        "word=\"ACADGILD\"\n",
        "list1=[letter for letter in word]\n",
        "print(list1)\n",
        "#2.\n",
        "l1=['x','y','z']\n",
        "list2=[count*letter for letter in l1 for count in range(1,5)]\n",
        "print(list2)\n",
        "list2=[count*letter for count in range(1,5) for letter in l1 ]\n",
        "print(list2)\n",
        "#3.\n",
        "l2=[2,3,4]\n",
        "list3=[[count+digit] for digit in l2 for count in range(0,3)]\n",
        "print(list3)\n",
        "#4.\n",
        "l2=[2,3,4,5]\n",
        "list3=[[count+digit for count in range(0,4)] for digit in l2]\n",
        "print(list3)\n",
        "#5.\n",
        "list4=[(i,j) for j in range(1,4) for i in range(1,4)]\n",
        "print(list4)"
      ],
      "execution_count": 17,
      "outputs": [
        {
          "output_type": "stream",
          "text": [
            "['A', 'C', 'A', 'D', 'G', 'I', 'L', 'D']\n",
            "['x', 'xx', 'xxx', 'xxxx', 'y', 'yy', 'yyy', 'yyyy', 'z', 'zz', 'zzz', 'zzzz']\n",
            "['x', 'y', 'z', 'xx', 'yy', 'zz', 'xxx', 'yyy', 'zzz', 'xxxx', 'yyyy', 'zzzz']\n",
            "[[2], [3], [4], [3], [4], [5], [4], [5], [6]]\n",
            "[[2, 3, 4, 5], [3, 4, 5, 6], [4, 5, 6, 7], [5, 6, 7, 8]]\n",
            "[(1, 1), (2, 1), (3, 1), (1, 2), (2, 2), (3, 2), (1, 3), (2, 3), (3, 3)]\n"
          ],
          "name": "stdout"
        }
      ]
    }
  ]
}